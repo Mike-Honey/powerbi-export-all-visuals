{
 "cells": [
  {
   "cell_type": "markdown",
   "metadata": {},
   "source": [
    "# Export all visuals"
   ]
  },
  {
   "cell_type": "markdown",
   "metadata": {},
   "source": [
    "This notebook embeds a Power BI report in an interactive frame and then attempts to export the data from every visual on every (non-hidden) page. Note that not every visual type supports data export.\n",
    "\n",
    "The data is exported in CSV or Excel format. A folder is created for the output, then a sub-folder is created for each page and a file is created for each visual.\n",
    "\n",
    "When used to produce CSV files, this can be used in combination with the Visual Studio Code \"Compare Folders\" Extension to very quickly compare every cell of data from every visual in the report. This could be useful to \"regression test\" whether query, semantic model or page design changes between versions have only had the desired effect, and have not leaked into other pages or visuals.\n",
    "\n",
    "https://marketplace.visualstudio.com/items?itemName=moshfeu.compare-folders\n",
    "\n",
    "The notebook embeds a live frame containing the target report. So if you need to first apply specific filters or use slicers, you can run the notebook cell-by-cell down to get the embedded report frame, then interact with it just like it was a Power BI web browser tab.  When you then run the remaining notebook cells, the output will reflect your filter or slicer changes. Any changes made will not be saved back to the Power BI web report definition.\n",
    "\n",
    "To run this, you will need to obtain your group (workspace) id and report id, e.g. from the URL of your report.  The target report must be published in a workspace.\n",
    "\n",
    "This project started from a Microsoft sample notebook - refer to that for more possibilities for automated report interactions:\n",
    "\n",
    "https://learn.microsoft.com/en-us/javascript/api/overview/powerbi/powerbi-jupyter"
   ]
  },
  {
   "cell_type": "code",
   "execution_count": null,
   "metadata": {},
   "outputs": [],
   "source": [
    "from powerbiclient.authentication import DeviceCodeLoginAuthentication\n",
    "from powerbiclient import Report \n",
    "from io import StringIO\n",
    "from ipywidgets import interact\n",
    "import pandas\n",
    "import pathlib\n",
    "import shutil\n",
    "import string\n",
    "import time"
   ]
  },
  {
   "cell_type": "markdown",
   "metadata": {},
   "source": [
    "### Authenticate to Power BI"
   ]
  },
  {
   "cell_type": "markdown",
   "metadata": {},
   "source": [
    "\n",
    "#### The following authentication methods can be used to authenticate the user and get the access token:\n",
    "\n",
    "- [Device flow authentication](https://msal-python.readthedocs.io/en/latest/#msal.PublicClientApplication.acquire_token_by_device_flow)\n",
    "    \n",
    "    Code snippet:\n",
    "    ``` py\n",
    "  from powerbiclient.authentication import DeviceCodeLoginAuthentication\n",
    "  device_auth = DeviceCodeLoginAuthentication()\n",
    "    ```\n",
    "- [Interactive authentication](https://msal-python.readthedocs.io/en/latest/#msal.PublicClientApplication.acquire_token_interactive)\n",
    "    \n",
    "    Code snippet:\n",
    "    ``` py\n",
    "  from powerbiclient.authentication import InteractiveLoginAuthentication\n",
    "  interactive_auth = InteractiveLoginAuthentication()    \n",
    "    ```\n",
    "\n",
    "Note: Either use auth object created or access token acquired above while creating the report instance\n"
   ]
  },
  {
   "cell_type": "markdown",
   "metadata": {},
   "source": [
    "#### Run the cell below to obtain the auth object using the Device Code Authentication method\n",
    "Note once you have completed the authentication, you can keep using it for some time without re-authenticating, e.g. to export data from other reports."
   ]
  },
  {
   "cell_type": "code",
   "execution_count": null,
   "metadata": {},
   "outputs": [],
   "source": [
    "# Create Auth object - see output for instructions to complete authentication\n",
    "auth = DeviceCodeLoginAuthentication()"
   ]
  },
  {
   "cell_type": "markdown",
   "metadata": {},
   "source": [
    "### Embed the Power BI report"
   ]
  },
  {
   "cell_type": "markdown",
   "metadata": {},
   "source": [
    "#### TO DO: Replace the output_dir and output_format parameters with your own selections.\n",
    "The directory provided for output_dir must be in python format e.g. forward-slashes between folders.  It must end with a closing forward-slash \"/\" after the last folder.\n",
    " \n",
    "Note the output_dir provided will be deleted and recreated, so be careful!!!  Don't try this with: output_dir = \"C:/\" ..."
   ]
  },
  {
   "cell_type": "code",
   "execution_count": null,
   "metadata": {},
   "outputs": [],
   "source": [
    "output_dir = \"ENTER YOUR TARGET OUTPUT FOLDER (will be deleted and recreated)\"\n",
    "output_format = \"CSV\" # CSV or EXCEL"
   ]
  },
  {
   "cell_type": "markdown",
   "metadata": {},
   "source": [
    "#### TO DO: Replace the group_id and report_id parameters with your own group ID and report ID (found in the report URL using Power BI Web UI)."
   ]
  },
  {
   "cell_type": "code",
   "execution_count": null,
   "metadata": {},
   "outputs": [],
   "source": [
    "group_id = \"ENTER YOUR GROUP ID\"\n",
    "report_id = \"ENTER YOUR REPORT ID\"\n",
    "\n",
    "report = Report(group_id=group_id, report_id=report_id, auth=auth)\n"
   ]
  },
  {
   "cell_type": "markdown",
   "metadata": {},
   "source": [
    "#### Set report loaded event handler"
   ]
  },
  {
   "cell_type": "code",
   "execution_count": null,
   "metadata": {},
   "outputs": [],
   "source": [
    "def loaded_callback(event_details):\n",
    "    print('Report is loaded')\n",
    "\n",
    "report.on('loaded', loaded_callback)"
   ]
  },
  {
   "cell_type": "markdown",
   "metadata": {},
   "source": [
    "#### Set report rendered event handler"
   ]
  },
  {
   "cell_type": "code",
   "execution_count": null,
   "metadata": {},
   "outputs": [],
   "source": [
    "def rendered_callback(event_details):\n",
    "    print('Report is rendered')\n",
    "\n",
    "report.on('rendered', rendered_callback)"
   ]
  },
  {
   "cell_type": "markdown",
   "metadata": {},
   "source": [
    "#### Load the report in the output cell\n",
    "\n",
    "You can manually interact with the report (eg applying filters etc) before running the subsequent notebook cells to complete the export."
   ]
  },
  {
   "cell_type": "code",
   "execution_count": null,
   "metadata": {
    "scrolled": false
   },
   "outputs": [],
   "source": [
    "# Render report\n",
    "report"
   ]
  },
  {
   "cell_type": "markdown",
   "metadata": {},
   "source": [
    "#### Change dimensions of embedded report"
   ]
  },
  {
   "cell_type": "code",
   "execution_count": null,
   "metadata": {
    "scrolled": false
   },
   "outputs": [],
   "source": [
    "\n",
    "# crude wait for report to render above (when all notebook cells are run)\n",
    "time.sleep(15)\n",
    "# Change dimensions of embedded report - adjust to suit your monitor\n",
    "report.set_size(800, 1200) "
   ]
  },
  {
   "cell_type": "markdown",
   "metadata": {},
   "source": [
    "### Export data from all visuals of the embedded report"
   ]
  },
  {
   "cell_type": "markdown",
   "metadata": {},
   "source": [
    "#### Delete and recreate the output directory"
   ]
  },
  {
   "cell_type": "code",
   "execution_count": null,
   "metadata": {},
   "outputs": [],
   "source": [
    "dirpath = pathlib.Path(output_dir) \n",
    "if dirpath.exists() and dirpath.is_dir():\n",
    "    shutil.rmtree(dirpath)\n",
    "\n",
    "pathlib.Path(output_dir).mkdir(parents=True)"
   ]
  },
  {
   "cell_type": "markdown",
   "metadata": {},
   "source": [
    "#### Loop over all the (non-hidden) pages, getting the visuals whose data is to be exported, then export in either CSV or Excel form"
   ]
  },
  {
   "cell_type": "code",
   "execution_count": null,
   "metadata": {},
   "outputs": [],
   "source": [
    "# build a dictionary to later remove punctuation for folder and file names\n",
    "remove_punctuation_map = dict((ord(char), None) for char in string.punctuation)\n",
    "\n",
    "#loop over the pages\n",
    "report_pages=report.get_pages()\n",
    "for report_page in report_pages:\n",
    "    if report_page['visibility'] == 0:\n",
    "        report_page_id = report_page['name']\n",
    "        report_page_name = report_page['displayName']\n",
    "        print(f\"Page_id: {report_page_id}, Page_Name: {report_page_name}\")\n",
    "        # prepare the page name for use as a folder name - remove punctuation, truncate at 30 characters.\n",
    "        report_page_name_folder = report_page_name.translate(remove_punctuation_map)[:30].strip()\n",
    "        pathlib.Path(output_dir + report_page_name_folder).mkdir()\n",
    "        report.set_active_page(report_page_id)\n",
    "        \n",
    "        # loop over the visuals on each page\n",
    "        report_visuals=report.visuals_on_page(report_page_id)\n",
    "        for report_visual in report_visuals:\n",
    "            visual_id = report_visual['name']\n",
    "            #some visuals will not have a Title property set, so wrap in a \"try except\" clause\n",
    "            try:\n",
    "                title = report_visual['title']\n",
    "            except:\n",
    "                title = None\n",
    "            # prepare the title for use as a file name - remove punctuation, truncate at 30 characters.\n",
    "            title_for_file_name = title.translate(remove_punctuation_map)[:30].strip()\n",
    "\n",
    "            print(f\"Page_id: {report_page_id}, Page_Name: {report_page_name}, Visual ID: {visual_id}, Visualization Type:{report_visual['type']}, Title: {title}\")\n",
    "            # I used \"try except\" because there is a long and changeable list of visual types that might or might not support this type of export (Summarised data)\n",
    "            try:\n",
    "                each_visual_df = pandas.read_csv(StringIO(report.export_visual_data(str(report_page_id), str(visual_id))), sep=\",\") \n",
    "            except:\n",
    "                each_visual_df = None\n",
    "            # print(each_visual_df)\n",
    "\n",
    "            if each_visual_df is not None:\n",
    "                output_filename = output_dir + report_page_name_folder + \"/\" + title_for_file_name + \" \" + visual_id \n",
    "                if output_format == \"CSV\":\n",
    "                    print(f\"Writing file: {output_filename}.csv\")\n",
    "                    each_visual_df.to_csv (output_filename + \".csv\", index=False, header=True)\n",
    "                else:\n",
    "                    print(f\"Writing file: {output_filename}.xlsx\")\n",
    "                    each_visual_df.to_excel (output_filename + \".xlsx\", index=False)\n"
   ]
  },
  {
   "cell_type": "markdown",
   "metadata": {},
   "source": [
    "#### Export finished"
   ]
  },
  {
   "cell_type": "code",
   "execution_count": null,
   "metadata": {},
   "outputs": [],
   "source": [
    "print(\"Export finished!!\")"
   ]
  }
 ],
 "metadata": {
  "kernelspec": {
   "display_name": "Python 3 (ipykernel)",
   "language": "python",
   "name": "python3"
  },
  "language_info": {
   "codemirror_mode": {
    "name": "ipython",
    "version": 3
   },
   "file_extension": ".py",
   "mimetype": "text/x-python",
   "name": "python",
   "nbconvert_exporter": "python",
   "pygments_lexer": "ipython3",
   "version": "3.11.2"
  }
 },
 "nbformat": 4,
 "nbformat_minor": 2
}
